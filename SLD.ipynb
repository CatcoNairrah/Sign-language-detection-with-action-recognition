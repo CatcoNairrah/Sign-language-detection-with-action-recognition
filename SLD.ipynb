{
 "cells": [
  {
   "cell_type": "code",
   "execution_count": null,
   "id": "249493e8-589b-4fa1-a838-19bedf2eb453",
   "metadata": {
    "scrolled": true
   },
   "outputs": [],
   "source": [
    "!pip install tensorflow\n"
   ]
  },
  {
   "cell_type": "code",
   "execution_count": null,
   "id": "03a47378-8090-4993-810f-a5bed469f0dc",
   "metadata": {},
   "outputs": [],
   "source": [
    " # mediapipe==0 opencv-python matplotlib numpy scikit-learn"
   ]
  },
  {
   "cell_type": "code",
   "execution_count": null,
   "id": "35642f07-2524-44da-b12c-a75b36636e28",
   "metadata": {},
   "outputs": [],
   "source": [
    "!pip install mediapipe"
   ]
  },
  {
   "cell_type": "code",
   "execution_count": null,
   "id": "bc408f43-7d71-46d6-bead-8b946eece87b",
   "metadata": {},
   "outputs": [],
   "source": [
    "!pip install opencv-python"
   ]
  },
  {
   "cell_type": "code",
   "execution_count": null,
   "id": "a8970cb6-e984-4819-8f33-6a7e6aa007ff",
   "metadata": {},
   "outputs": [],
   "source": [
    "!pip install matplotlib"
   ]
  },
  {
   "cell_type": "code",
   "execution_count": null,
   "id": "d7070eb0-8512-4c67-8d91-f65f5ed9c53a",
   "metadata": {},
   "outputs": [],
   "source": [
    "!pip install numpy"
   ]
  },
  {
   "cell_type": "code",
   "execution_count": null,
   "id": "72209f14-5b20-4ac5-add8-a0923c898cdd",
   "metadata": {},
   "outputs": [],
   "source": [
    "!pip install scikit-learn"
   ]
  },
  {
   "cell_type": "code",
   "execution_count": null,
   "id": "008f574f-effe-4a65-ba54-bd347a3848ba",
   "metadata": {},
   "outputs": [],
   "source": [
    "import cv2\n",
    "import numpy as np\n",
    "import os\n",
    "import matplotlib.pyplot as plt\n",
    "from tensorflow.keras.utils import to_categorical\n",
    "\n",
    "from tensorflow.keras.models import Sequential\n",
    "from tensorflow.keras.layers import LSTM, Dense, Dropout\n",
    "from tensorflow.keras.callbacks import TensorBoard\n",
    "import mediapipe as mp\n",
    "import time"
   ]
  },
  {
   "cell_type": "code",
   "execution_count": null,
   "id": "074fa215-3bdc-4a7a-bb01-dfa7debc4523",
   "metadata": {},
   "outputs": [],
   "source": [
    "mp_holistic = mp.solutions.holistic #Holistic model\n",
    "mp_drawing = mp.solutions.drawing_utils  #Drawing utilities"
   ]
  },
  {
   "cell_type": "code",
   "execution_count": null,
   "id": "a8082bc9-53af-4975-8a1f-28f454501fc5",
   "metadata": {},
   "outputs": [],
   "source": [
    "def mediapipe_detection(image, model):\n",
    "    image = cv2.cvtColor(image, cv2.COLOR_BGR2RGB)\n",
    "    image.flags.writeable = False\n",
    "    results = model.process(image)\n",
    "    image.flags.writeable = True\n",
    "    image = cv2.cvtColor(image, cv2.COLOR_RGB2BGR)\n",
    "    return image,results"
   ]
  },
  {
   "cell_type": "code",
   "execution_count": null,
   "id": "16efa19a-c4db-454a-b73e-c58c5acca6c2",
   "metadata": {
    "scrolled": true
   },
   "outputs": [],
   "source": [
    "\n",
    "\n",
    "def draw_landmarks(image, results):\n",
    "    # Draw face landmarks\n",
    "    mp_drawing.draw_landmarks(\n",
    "        image, \n",
    "        results.face_landmarks, \n",
    "        mp_holistic.FACEMESH_CONTOURS  # Use FACEMESH_CONTOURS for face outlines\n",
    "    )\n",
    "    # Draw pose landmarks\n",
    "    mp_drawing.draw_landmarks(\n",
    "        image, \n",
    "        results.pose_landmarks, \n",
    "        mp_holistic.POSE_CONNECTIONS\n",
    "    )\n",
    "    # Draw left hand landmarks\n",
    "    mp_drawing.draw_landmarks(\n",
    "        image, \n",
    "        results.left_hand_landmarks, \n",
    "        mp_holistic.HAND_CONNECTIONS\n",
    "    )\n",
    "    # Draw right hand landmarks\n",
    "    mp_drawing.draw_landmarks(\n",
    "        image, \n",
    "        results.right_hand_landmarks, \n",
    "        mp_holistic.HAND_CONNECTIONS\n",
    "    )"
   ]
  },
  {
   "cell_type": "code",
   "execution_count": null,
   "id": "3da0762c-10c4-4135-b679-71372d3fc365",
   "metadata": {},
   "outputs": [],
   "source": [
    "def draw_styled_landmarks(image, results):\n",
    "   \n",
    "    mp_drawing.draw_landmarks(\n",
    "        image, \n",
    "        results.face_landmarks, \n",
    "        mp_holistic.FACEMESH_CONTOURS,\n",
    "        mp_drawing.DrawingSpec(color=(80, 110, 10), thickness=1, circle_radius=1),\n",
    "        mp_drawing.DrawingSpec(color=(80, 255, 121), thickness=1, circle_radius=1)\n",
    "    )\n",
    "    # Draw pose landmarks\n",
    "    mp_drawing.draw_landmarks(\n",
    "        image, \n",
    "        results.pose_landmarks, \n",
    "        mp_holistic.POSE_CONNECTIONS,\n",
    "        mp_drawing.DrawingSpec(color=(80, 22, 10), thickness=2, circle_radius=4),\n",
    "        mp_drawing.DrawingSpec(color=(80, 44, 121), thickness=2, circle_radius=2)\n",
    "    )\n",
    "    # Draw left hand landmarks\n",
    "    mp_drawing.draw_landmarks(\n",
    "        image, \n",
    "        results.left_hand_landmarks, \n",
    "        mp_holistic.HAND_CONNECTIONS,\n",
    "        mp_drawing.DrawingSpec(color=(121, 22, 76), thickness=2, circle_radius=4),\n",
    "        mp_drawing.DrawingSpec(color=(121, 44, 250), thickness=2, circle_radius=2)\n",
    "    )\n",
    "    # Draw right hand landmarks\n",
    "    mp_drawing.draw_landmarks(\n",
    "        image,\n",
    "        results.right_hand_landmarks, \n",
    "        mp_holistic.HAND_CONNECTIONS,\n",
    "        mp_drawing.DrawingSpec(color=(245, 117, 66), thickness=2, circle_radius=4),\n",
    "        mp_drawing.DrawingSpec(color=(245, 66, 230), thickness=2, circle_radius=2)\n",
    "    )\n",
    "    "
   ]
  },
  {
   "cell_type": "code",
   "execution_count": null,
   "id": "2b7f9f9e-bd31-4c08-84ce-7f59466aac6f",
   "metadata": {},
   "outputs": [],
   "source": [
    "mp_holistic.HAND_CONNECTIONS"
   ]
  },
  {
   "cell_type": "code",
   "execution_count": null,
   "id": "dba34bd9-4889-4cea-abc9-9013bf8f012a",
   "metadata": {
    "scrolled": true
   },
   "outputs": [],
   "source": [
    "# cap = cv2.VideoCapture(0)\n",
    "# with mp_holistic.Holistic(min_detection_confidence = 0.3, min_tracking_confidence = 0.3) as holistic:\n",
    "#     while cap.isOpened():\n",
    "#         # Read feed\n",
    "#         ret, frame = cap.read()\n",
    "#         # make detection\n",
    "#         image, results = mediapipe_detection(frame, holistic)\n",
    "#         print(results)\n",
    "#         # Draw landmarks\n",
    "#         draw_styled_landmarks(image, results)\n",
    "#         # Show to screen\n",
    "#         cv2.imshow(\"OpenCV Feed\", image)\n",
    "#         if cv2.waitKey(10) & 0xFF == ord(\"q\"):\n",
    "#             break\n",
    "#     cap.release()\n",
    "#     cv2.destroyAllWindows()"
   ]
  },
  {
   "cell_type": "code",
   "execution_count": null,
   "id": "b503158b-367d-4ef2-87e6-381d33ecc99f",
   "metadata": {},
   "outputs": [],
   "source": [
    "# plt.imshow(cv2.cvtColor(frame, cv2.COLOR_BGR2RGB))"
   ]
  },
  {
   "cell_type": "code",
   "execution_count": null,
   "id": "94f80cc2-0186-4be1-8fee-bc42759812e6",
   "metadata": {},
   "outputs": [],
   "source": [
    "\n",
    "# # Check hand landmarks\n",
    "# if hasattr(results, 'left_hand_landmarks') and results.left_hand_landmarks:\n",
    "#     print(f\"Left hand landmarks: {len(results.left_hand_landmarks.landmark)}\")\n",
    "# if hasattr(results, 'right_hand_landmarks') and results.right_hand_landmarks:\n",
    "#     print(f\"Right hand landmarks: {len(results.right_hand_landmarks.landmark)}\")\n",
    "# else:\n",
    "#     print(\"No hand landmarks detected\")"
   ]
  },
  {
   "cell_type": "code",
   "execution_count": null,
   "id": "1d437d14-5b3f-4394-8dc8-05805ee39d0a",
   "metadata": {
    "scrolled": true
   },
   "outputs": [],
   "source": [
    "def extract_keypoints(results):\n",
    "    pose = np.array([[res.x, res.y, res.z, res.visibility] for res in results.pose_landmarks.landmark]).flatten() if results.pose_landmarks else np.zeros(33*4)\n",
    "    face = np.array([[res.x, res.y, res.z] for res in results.face_landmarks.landmark]).flatten() if results.face_landmarks else np.zeros(468*3)\n",
    "    lh = np.array([[res.x, res.y, res.z] for res in results.left_hand_landmarks.landmark]).flatten() if results.left_hand_landmarks else np.zeros(21*3)\n",
    "    rh = np.array([[res.x, res.y, res.z] for res in results.right_hand_landmarks.landmark]).flatten() if results.right_hand_landmarks else np.zeros(21*3)\n",
    "    return np.concatenate([pose, face, lh, rh])"
   ]
  },
  {
   "cell_type": "code",
   "execution_count": null,
   "id": "acd5aa7a-a031-4e51-b1d9-d932c6acc15a",
   "metadata": {},
   "outputs": [],
   "source": [
    "# Path for exported data, numpy arrays\n",
    "DATA_PATH = os.path.join('MP_Data') \n",
    "\n",
    "# Actions that we try to detect\n",
    "actions = np.array(['hello', 'thanks', 'iloveyou',\"welcome\",\"sorry\",\"congratulations\",\"please\",\"yes\",\"no\"])\n",
    "\n",
    "# Thirty videos worth of data\n",
    "no_sequences = 30\n",
    "\n",
    "# Videos are going to be 30 frames in length\n",
    "sequence_length = 30"
   ]
  },
  {
   "cell_type": "code",
   "execution_count": null,
   "id": "ea976d3f-8f18-42b7-afef-b6597b7e4b53",
   "metadata": {},
   "outputs": [],
   "source": [
    "for action in actions: \n",
    "    for sequence in range(no_sequences):\n",
    "        try: \n",
    "            os.makedirs(os.path.join(DATA_PATH, action, str(sequence)))\n",
    "        except:\n",
    "            pass"
   ]
  },
  {
   "cell_type": "code",
   "execution_count": null,
   "id": "c6e8490e-32fa-4212-a930-5524c94bcd41",
   "metadata": {},
   "outputs": [],
   "source": [
    "cap = cv2.VideoCapture(0)\n",
    "# Set mediapipe model \n",
    "with mp_holistic.Holistic(min_detection_confidence=0.5, min_tracking_confidence=0.5) as holistic:\n",
    "    \n",
    "    # NEW LOOP\n",
    "    # Loop through actions\n",
    "    for action in range(0,len(actions)):\n",
    "        # Loop through sequences aka videos\n",
    "        for sequence in range(no_sequences):\n",
    "            # Loop through video length aka sequence length\n",
    "            for frame_num in range(sequence_length):\n",
    "\n",
    "                # Read feed\n",
    "                ret, frame = cap.read()\n",
    "\n",
    "                # Make detections\n",
    "                image, results = mediapipe_detection(frame, holistic)\n",
    "#                 print(results)\n",
    "\n",
    "                # Draw landmarks\n",
    "                draw_styled_landmarks(image, results)\n",
    "                \n",
    "                # NEW Apply wait logic\n",
    "                if frame_num == 0: \n",
    "                    cv2.putText(image, 'STARTING COLLECTION', (120,200), \n",
    "                               cv2.FONT_HERSHEY_SIMPLEX, 1, (0,255, 0), 4, cv2.LINE_AA)\n",
    "                    cv2.putText(image, 'Collecting frames for {} Video Number {}'.format(actions[action], sequence), (15,12), \n",
    "                               cv2.FONT_HERSHEY_SIMPLEX, 0.5, (0, 0, 255), 1, cv2.LINE_AA)\n",
    "                    # Show to screen\n",
    "                    cv2.imshow('OpenCV Feed', image)\n",
    "                    cv2.waitKey(500)\n",
    "                else: \n",
    "                    cv2.putText(image, 'Collecting frames for {} Video Number {}'.format(actions[action], sequence), (15,12), \n",
    "                               cv2.FONT_HERSHEY_SIMPLEX, 0.5, (0, 0, 255), 1, cv2.LINE_AA)\n",
    "                    # Show to screen\n",
    "                    cv2.imshow('OpenCV Feed', image)\n",
    "                \n",
    "                # NEW Export keypoints\n",
    "                keypoints = extract_keypoints(results)\n",
    "                npy_path = os.path.join(DATA_PATH, actions[action], str(sequence), str(frame_num))\n",
    "                np.save(npy_path, keypoints)\n",
    "\n",
    "                # Break gracefully\n",
    "                if cv2.waitKey(10) & 0xFF == ord('q'):\n",
    "                    break\n",
    "                    \n",
    "    cap.release()\n",
    "    cv2.destroyAllWindows()"
   ]
  },
  {
   "cell_type": "code",
   "execution_count": null,
   "id": "2f6c4f90-c36f-4973-a016-8cc65f115e2b",
   "metadata": {},
   "outputs": [],
   "source": [
    "\n",
    "\n",
    "label_map = {str(label): num for num, label in enumerate(actions)}\n",
    "\n",
    "from concurrent.futures import ThreadPoolExecutor\n",
    "sample_file = np.load(os.path.join(DATA_PATH, actions[0], \"0\", \"0.npy\"))\n",
    "frame_shape = sample_file.shape\n",
    "\n",
    "# Preallocate sequences and labels arrays\n",
    "sequences = np.empty((len(actions) * no_sequences, sequence_length, *frame_shape), dtype=np.float32)\n",
    "labels = np.empty(len(actions) * no_sequences, dtype=np.int64)\n",
    "\n",
    "# Function to load a single sequence\n",
    "def load_sequence(action, sequence, sequence_length, data_path):\n",
    "    window = []\n",
    "    for frame_num in range(sequence_length):\n",
    "        res = np.load(os.path.join(data_path, action, str(sequence), \"{}.npy\".format(frame_num)))\n",
    "        window.append(res)\n",
    "    return np.array(window), label_map[str(action)]\n",
    "\n",
    "# Parallel loading with ThreadPoolExecutor\n",
    "idx = 0\n",
    "with ThreadPoolExecutor() as executor:\n",
    "    futures = [\n",
    "        executor.submit(load_sequence, action, sequence, sequence_length, DATA_PATH)\n",
    "        for action in actions\n",
    "        for sequence in range(no_sequences)\n",
    "    ]\n",
    "    for future in futures:\n",
    "        window, label = future.result()\n",
    "        sequences[idx] = window\n",
    "        labels[idx] = label\n",
    "        idx += 1\n",
    "\n",
    "\n"
   ]
  },
  {
   "cell_type": "code",
   "execution_count": null,
   "id": "2df9eef5-8be9-464c-b28f-38f30364a5df",
   "metadata": {},
   "outputs": [],
   "source": [
    "# Import the necessary function\n",
    "\n",
    "X = np.array(sequences)\n",
    "y = to_categorical(labels).astype(int)\n",
    "\n",
    "X_train, X_test, y_train, y_test = train_test_split(X, y, test_size=0.3, random_state=42)\n",
    "\n"
   ]
  },
  {
   "cell_type": "code",
   "execution_count": null,
   "id": "03a0ceae-c893-453f-a100-fc74b077840b",
   "metadata": {},
   "outputs": [],
   "source": [
    "\n",
    "log_dir = os.path.join('Logs')\n",
    "tb_callback = TensorBoard(log_dir=log_dir)\n",
    "\n",
    "model = Sequential()\n",
    "model.add(LSTM(512, return_sequences=True, input_shape=(30, 1662)))\n",
    "model.add(BatchNormalization())\n",
    "model.add(LSTM(256, return_sequences=True))\n",
    "model.add(BatchNormalization())\n",
    "model.add(LSTM(128, return_sequences=False))\n",
    "model.add(Dense(256, activation='relu'))\n",
    "model.add(Dropout(0.3))\n",
    "model.add(Dense(128, activation='relu'))\n",
    "model.add(Dropout(0.3))\n",
    "model.add(Dense(9, activation='softmax'))\n",
    "\n",
    "\n",
    "\n",
    "model.compile(optimizer='Adam', loss='categorical_crossentropy', metrics=['categorical_accuracy'])\n",
    "model.fit(X_train, y_train, epochs=100, callbacks=[tb_callback])\n",
    "model.summary()\n",
    "\n",
    "\n",
    "model.save('sign_language_model.h5')\n"
   ]
  },
  {
   "cell_type": "code",
   "execution_count": null,
   "id": "2946f4de-c14b-4ac6-897e-48f5136ccf7f",
   "metadata": {},
   "outputs": [],
   "source": [
    "del model"
   ]
  },
  {
   "cell_type": "code",
   "execution_count": null,
   "id": "7c99e7d9-80ea-40e0-941f-f03c0a4a8243",
   "metadata": {},
   "outputs": [],
   "source": [
    "model.load_weights('sign_language_model.h5')"
   ]
  },
  {
   "cell_type": "code",
   "execution_count": null,
   "id": "dfe91e3e-2ae1-4d40-9f2f-e39b2f4c6771",
   "metadata": {},
   "outputs": [],
   "source": [
    "from scipy import stats"
   ]
  },
  {
   "cell_type": "code",
   "execution_count": null,
   "id": "d4e42f76-28a3-4b54-b6e0-8b42d69a7c51",
   "metadata": {},
   "outputs": [],
   "source": [
    "colors = [\n",
    "    (245,117,16),  # orange\n",
    "    (117,245,16),  # lime green\n",
    "    (16,117,245),  # blue\n",
    "    (255,0,0),     # red\n",
    "    (0,255,0),     # green\n",
    "    (0,0,255),     # deep blue\n",
    "    (255,255,0),   # yellow\n",
    "    (255,0,255),   # magenta\n",
    "    (0,255,255)    # cyan\n",
    "]\n",
    "\n",
    "def prob_viz(res, actions, input_frame, colors):\n",
    "    output_frame = input_frame.copy()\n",
    "    for num, prob in enumerate(res):\n",
    "        color = colors[num]  # safe now because we have 9 actions & 9 colors\n",
    "        cv2.rectangle(output_frame, (0,60+num*40), (int(prob*100), 90+num*40), color, -1)\n",
    "        cv2.putText(output_frame, actions[num], (0, 85+num*40),\n",
    "                    cv2.FONT_HERSHEY_SIMPLEX, 1, (255,255,255), 2, cv2.LINE_AA)\n",
    "    return output_frame"
   ]
  },
  {
   "cell_type": "code",
   "execution_count": null,
   "id": "d9e4c6d2-1f53-4ca0-98f7-ad7cfbcffb09",
   "metadata": {},
   "outputs": [],
   "source": [
    "sequence = []\n",
    "sentence = []\n",
    "predictions = []\n",
    "threshold = 0.5\n",
    "\n",
    "cap = cv2.VideoCapture(0)\n",
    "\n",
    "# Set mediapipe model \n",
    "with mp_holistic.Holistic(min_detection_confidence=0.5, min_tracking_confidence=0.5) as holistic:\n",
    "    while cap.isOpened():\n",
    "        # Read feed\n",
    "        ret, frame = cap.read()\n",
    "\n",
    "        # Make detections\n",
    "        image, results = mediapipe_detection(frame, holistic)\n",
    "        print(results)\n",
    "        \n",
    "        # Draw landmarks\n",
    "        draw_styled_landmarks(image, results)\n",
    "        \n",
    "        # 2. Prediction logic\n",
    "        keypoints = extract_keypoints(results)\n",
    "        sequence.append(keypoints)\n",
    "        sequence = sequence[-30:]\n",
    "        \n",
    "        if len(sequence) == 30:\n",
    "            res = model.predict(np.expand_dims(sequence, axis=0))[0]\n",
    "            print(actions[np.argmax(res)])\n",
    "            predictions.append(np.argmax(res))\n",
    "            \n",
    "            # 3. Viz logic\n",
    "            if np.unique(predictions[-10:])[0] == np.argmax(res): \n",
    "                if res[np.argmax(res)] > threshold: \n",
    "                    if len(sentence) > 0: \n",
    "                        if actions[np.argmax(res)] != sentence[-1]:\n",
    "                            sentence.append(actions[np.argmax(res)])\n",
    "                    else:\n",
    "                        sentence.append(actions[np.argmax(res)])\n",
    "\n",
    "            if len(sentence) > 5: \n",
    "                sentence = sentence[-5:]\n",
    "\n",
    "            # Viz probabilities\n",
    "            image = prob_viz(res, actions, image, colors)\n",
    "            \n",
    "        cv2.rectangle(image, (0,0), (640, 40), (245, 117, 16), -1)\n",
    "        cv2.putText(image, ' '.join(sentence), (3,30), \n",
    "                       cv2.FONT_HERSHEY_SIMPLEX, 1, (255, 255, 255), 2, cv2.LINE_AA)\n",
    "        \n",
    "        # Show to screen\n",
    "        cv2.imshow('OpenCV Feed', image)\n",
    "\n",
    "        # Break gracefully\n",
    "        if cv2.waitKey(10) & 0xFF == ord('q'):\n",
    "            break\n",
    "\n",
    "    cap.release()\n",
    "    cv2.destroyAllWindows()"
   ]
  },
  {
   "cell_type": "code",
   "execution_count": null,
   "id": "60a4134e-3110-49ac-a2bf-95f3d9b040cd",
   "metadata": {},
   "outputs": [],
   "source": []
  }
 ],
 "metadata": {
  "kernelspec": {
   "display_name": "tf8_env",
   "language": "python",
   "name": "tf8_env"
  },
  "language_info": {
   "codemirror_mode": {
    "name": "ipython",
    "version": 3
   },
   "file_extension": ".py",
   "mimetype": "text/x-python",
   "name": "python",
   "nbconvert_exporter": "python",
   "pygments_lexer": "ipython3",
   "version": "3.8.20"
  }
 },
 "nbformat": 4,
 "nbformat_minor": 5
}
